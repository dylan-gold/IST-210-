{
  "nbformat": 4,
  "nbformat_minor": 0,
  "metadata": {
    "colab": {
      "name": "IST 210 1/15",
      "provenance": [],
      "authorship_tag": "ABX9TyPYf/xFCV5Dap8JVvRwpFDo",
      "include_colab_link": true
    },
    "kernelspec": {
      "name": "python3",
      "display_name": "Python 3"
    }
  },
  "cells": [
    {
      "cell_type": "markdown",
      "metadata": {
        "id": "view-in-github",
        "colab_type": "text"
      },
      "source": [
        "<a href=\"https://colab.research.google.com/github/dylan-gold/IST-210-/blob/master/intro/firstday.ipynb\" target=\"_parent\"><img src=\"https://colab.research.google.com/assets/colab-badge.svg\" alt=\"Open In Colab\"/></a>"
      ]
    },
    {
      "cell_type": "code",
      "metadata": {
        "id": "NWJSEORczCBn",
        "colab_type": "code",
        "colab": {
          "base_uri": "https://localhost:8080/",
          "height": 34
        },
        "outputId": "853991d8-05fd-4b4a-8b29-fe0bb7cd59dc"
      },
      "source": [
        "2+2"
      ],
      "execution_count": 7,
      "outputs": [
        {
          "output_type": "execute_result",
          "data": {
            "text/plain": [
              "4"
            ]
          },
          "metadata": {
            "tags": []
          },
          "execution_count": 7
        }
      ]
    },
    {
      "cell_type": "markdown",
      "metadata": {
        "id": "fjVEMYYEz9Mw",
        "colab_type": "text"
      },
      "source": [
        "*first* **notebook**\n",
        "\n",
        "\n"
      ]
    },
    {
      "cell_type": "markdown",
      "metadata": {
        "id": "kQnotBI60o7a",
        "colab_type": "text"
      },
      "source": [
        "# header 1\n",
        "## header 2\n",
        "### header 3"
      ]
    },
    {
      "cell_type": "markdown",
      "metadata": {
        "id": "d4WVx53c4KfU",
        "colab_type": "text"
      },
      "source": [
        "![alt text](https://raw.githubusercontent.com/dylan-gold/IST-210-/master/intro/Lego%20.JPG)"
      ]
    },
    {
      "cell_type": "markdown",
      "metadata": {
        "id": "RfIveTLy4b0z",
        "colab_type": "text"
      },
      "source": [
        ""
      ]
    }
  ]
}