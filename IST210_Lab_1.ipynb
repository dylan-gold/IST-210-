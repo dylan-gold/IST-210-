{
  "nbformat": 4,
  "nbformat_minor": 0,
  "metadata": {
    "colab": {
      "name": "IST210 - Lab 1",
      "provenance": [],
      "collapsed_sections": [],
      "authorship_tag": "ABX9TyOB6A0gKZ6q7EyKKPYVSQYs",
      "include_colab_link": true
    },
    "kernelspec": {
      "name": "python3",
      "display_name": "Python 3"
    }
  },
  "cells": [
    {
      "cell_type": "markdown",
      "metadata": {
        "id": "view-in-github",
        "colab_type": "text"
      },
      "source": [
        "<a href=\"https://colab.research.google.com/github/dylan-gold/IST-210-/blob/master/IST210_Lab_1.ipynb\" target=\"_parent\"><img src=\"https://colab.research.google.com/assets/colab-badge.svg\" alt=\"Open In Colab\"/></a>"
      ]
    },
    {
      "cell_type": "code",
      "metadata": {
        "id": "8Q28e5ov9qXC",
        "colab_type": "code",
        "colab": {}
      },
      "source": [
        ""
      ],
      "execution_count": 0,
      "outputs": []
    },
    {
      "cell_type": "markdown",
      "metadata": {
        "id": "MxZI-jAp9tLQ",
        "colab_type": "text"
      },
      "source": [
        "### NAME\n",
        "Dylan Gold\n",
        "### IST related interests\n",
        "sophomore IE major, potentially minoring in IST-IE, if not then I'll use this class as an \"engineering elective\"\n",
        "### Future Job/Career\n",
        "management consulting/operations research/optimization \n",
        "### Picture\n",
        "![alt text](https://raw.githubusercontent.com/dylan-gold/IST-210-/master/Baymax.PNG)"
      ]
    }
  ]
}